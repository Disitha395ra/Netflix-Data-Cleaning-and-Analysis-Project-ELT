{
 "cells": [
  {
   "cell_type": "code",
   "execution_count": 27,
   "id": "a3e79820-62ab-493c-9524-7df0ea42cbbb",
   "metadata": {},
   "outputs": [],
   "source": [
    "import pandas as pd\n",
    "df = pd.read_csv(r\"C:\\Users\\DELL\\OneDrive\\Desktop\\Netflix data_analysing\\Netflix-Data-Cleaning-and-Analysis-Project-ELT\\data\\netflix_titles.csv\")"
   ]
  },
  {
   "cell_type": "code",
   "execution_count": 28,
   "id": "dc31661c-fc65-4e74-88a9-4c8f41a8f9d1",
   "metadata": {},
   "outputs": [
    {
     "name": "stdout",
     "output_type": "stream",
     "text": [
      "Requirement already satisfied: sqlalchemy in c:\\python311\\lib\\site-packages (2.0.44)\n",
      "Requirement already satisfied: greenlet>=1 in c:\\python311\\lib\\site-packages (from sqlalchemy) (3.2.4)\n",
      "Requirement already satisfied: typing-extensions>=4.6.0 in c:\\python311\\lib\\site-packages (from sqlalchemy) (4.12.2)\n",
      "Note: you may need to restart the kernel to use updated packages.\n"
     ]
    }
   ],
   "source": [
    "pip install sqlalchemy"
   ]
  },
  {
   "cell_type": "code",
   "execution_count": 29,
   "id": "7a1e3592-35b6-483d-a8ba-bda9c2a00910",
   "metadata": {},
   "outputs": [
    {
     "name": "stdout",
     "output_type": "stream",
     "text": [
      "Requirement already satisfied: pymysql in c:\\python311\\lib\\site-packages (1.1.2)\n",
      "Note: you may need to restart the kernel to use updated packages.\n"
     ]
    }
   ],
   "source": [
    "pip install pymysql"
   ]
  },
  {
   "cell_type": "code",
   "execution_count": 30,
   "id": "27f4b393-c726-4aed-8f24-0d92c2e48f76",
   "metadata": {},
   "outputs": [],
   "source": [
    "import sqlalchemy as sal\n",
    "engine = sal.create_engine(\"mysql+pymysql://root:@localhost/netflix_data\")\n",
    "conn = engine.connect()\n",
    "#print(conn)"
   ]
  },
  {
   "cell_type": "code",
   "execution_count": 31,
   "id": "2ef478fc-516e-4b2e-b836-5686ba0dac2b",
   "metadata": {},
   "outputs": [
    {
     "data": {
      "text/plain": [
       "8807"
      ]
     },
     "execution_count": 31,
     "metadata": {},
     "output_type": "execute_result"
    }
   ],
   "source": [
    "df.to_sql('netflix_raw',con=conn, index=False, if_exists='append')\n",
    "#conn.close()"
   ]
  },
  {
   "cell_type": "code",
   "execution_count": 33,
   "id": "fb0c2143-822e-4f3c-9e6d-93f72a8af960",
   "metadata": {},
   "outputs": [
    {
     "data": {
      "text/html": [
       "<div>\n",
       "<style scoped>\n",
       "    .dataframe tbody tr th:only-of-type {\n",
       "        vertical-align: middle;\n",
       "    }\n",
       "\n",
       "    .dataframe tbody tr th {\n",
       "        vertical-align: top;\n",
       "    }\n",
       "\n",
       "    .dataframe thead th {\n",
       "        text-align: right;\n",
       "    }\n",
       "</style>\n",
       "<table border=\"1\" class=\"dataframe\">\n",
       "  <thead>\n",
       "    <tr style=\"text-align: right;\">\n",
       "      <th></th>\n",
       "      <th>show_id</th>\n",
       "      <th>type</th>\n",
       "      <th>title</th>\n",
       "      <th>director</th>\n",
       "      <th>cast</th>\n",
       "      <th>country</th>\n",
       "      <th>date_added</th>\n",
       "      <th>release_year</th>\n",
       "      <th>rating</th>\n",
       "      <th>duration</th>\n",
       "      <th>listed_in</th>\n",
       "      <th>description</th>\n",
       "    </tr>\n",
       "  </thead>\n",
       "  <tbody>\n",
       "    <tr>\n",
       "      <th>5022</th>\n",
       "      <td>s5023</td>\n",
       "      <td>Movie</td>\n",
       "      <td>반드시 잡는다</td>\n",
       "      <td>Hong-seon Kim</td>\n",
       "      <td>Baek Yoon-sik</td>\n",
       "      <td>South Korea</td>\n",
       "      <td>February 28, 2018</td>\n",
       "      <td>2017</td>\n",
       "      <td>TV-MA</td>\n",
       "      <td>110 min</td>\n",
       "      <td>Dramas, International Movies, Thrillers</td>\n",
       "      <td>After people in his town start turning up dead...</td>\n",
       "    </tr>\n",
       "  </tbody>\n",
       "</table>\n",
       "</div>"
      ],
      "text/plain": [
       "     show_id   type    title       director           cast      country  \\\n",
       "5022   s5023  Movie  반드시 잡는다  Hong-seon Kim  Baek Yoon-sik  South Korea   \n",
       "\n",
       "             date_added  release_year rating duration  \\\n",
       "5022  February 28, 2018          2017  TV-MA  110 min   \n",
       "\n",
       "                                    listed_in  \\\n",
       "5022  Dramas, International Movies, Thrillers   \n",
       "\n",
       "                                            description  \n",
       "5022  After people in his town start turning up dead...  "
      ]
     },
     "execution_count": 33,
     "metadata": {},
     "output_type": "execute_result"
    }
   ],
   "source": [
    "df[df.show_id =='s5023']"
   ]
  },
  {
   "cell_type": "markdown",
   "id": "f6d3685a-190f-4c6c-a0da-cbdfc4898cca",
   "metadata": {},
   "source": [
    "so we have to find maximum length of each columns"
   ]
  },
  {
   "cell_type": "code",
   "execution_count": 14,
   "id": "64b8f99e-1e63-428a-9ce1-85716c88dc90",
   "metadata": {},
   "outputs": [
    {
     "name": "stdout",
     "output_type": "stream",
     "text": [
      "5\n",
      "7\n",
      "104\n",
      "208.0\n",
      "771\n",
      "123.0\n",
      "19.0\n",
      "8.0\n",
      "10.0\n",
      "79\n",
      "248\n"
     ]
    }
   ],
   "source": [
    "show_id = max(df.show_id.str.len())\n",
    "typ_e = max(df.type.str.len())\n",
    "title = max(df.title.str.len())\n",
    "director = max(df.director.str.len())\n",
    "cast = max(df.cast.dropna().str.len())\n",
    "country = max(df.country.str.len())\n",
    "date_added = max(df.date_added.str.len())\n",
    "#release_year = max(df.release_year.str.len())\n",
    "rating = max(df.rating.str.len())\n",
    "duration = max(df.duration.str.len())\n",
    "listed_in = max(df.listed_in.str.len())\n",
    "description = max(df.description.str.len())\n",
    "print(show_id)\n",
    "print(typ_e)\n",
    "print(title)\n",
    "print(director)\n",
    "print(cast)\n",
    "print(country)\n",
    "print(date_added)\n",
    "#print(release_year)\n",
    "print(rating)\n",
    "print(duration)\n",
    "print(listed_in)\n",
    "print(description)"
   ]
  },
  {
   "cell_type": "code",
   "execution_count": null,
   "id": "6cbb1ade-38e7-42b1-8352-6dd7eb5253cb",
   "metadata": {},
   "outputs": [],
   "source": []
  }
 ],
 "metadata": {
  "kernelspec": {
   "display_name": "Python 3 (ipykernel)",
   "language": "python",
   "name": "python3"
  },
  "language_info": {
   "codemirror_mode": {
    "name": "ipython",
    "version": 3
   },
   "file_extension": ".py",
   "mimetype": "text/x-python",
   "name": "python",
   "nbconvert_exporter": "python",
   "pygments_lexer": "ipython3",
   "version": "3.11.3"
  }
 },
 "nbformat": 4,
 "nbformat_minor": 5
}
